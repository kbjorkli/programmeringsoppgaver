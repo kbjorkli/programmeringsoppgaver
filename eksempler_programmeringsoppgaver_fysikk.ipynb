{
 "cells": [
  {
   "cell_type": "markdown",
   "metadata": {},
   "source": [
    "Læringsmål?"
   ]
  },
  {
   "cell_type": "markdown",
   "metadata": {},
   "source": [
    "\n",
    "# Eksempeloppgaver med programmering i Fysikk\n",
    "Dette er et sett oppgaver som er ment å antyde aktuelle problemstillinger for eksamensoppgaver med programmering i Fysikk. Alle oppgavene er i flervalgsformat, da dette er formatet som vil bli brukt for slike oppgaver på eksamen (dvs. man vil **ikke** bli bedt om å skrive egen kode).\n",
    "\n",
    "## Oppgaver med likningsløsning\n",
    "SciPy-funksjonen ```fsolve``` løser en likningen $f(x)=0$, som illustrert i eksemplet under."
   ]
  },
  {
   "cell_type": "code",
   "execution_count": 19,
   "metadata": {},
   "outputs": [],
   "source": [
    "#Eksempel: løs likingen a*x**3=-b, der a og b er parametre\n",
    "\n",
    "from scipy.optimize import fsolve\n",
    "import numpy as np\n",
    "\n",
    "#Definerer funksjonen f(x) slik at likningen kan skrives på formen f(x)=0\n",
    "def f(x,a,b):\n",
    "    return a*x**3+b\n",
    "\n",
    "#Finn løsningen x1 av likninga tilsvarende en starverdi x = -1 og\n",
    "#gitte verdier av parametrene a og b\n",
    "a=1\n",
    "b=2\n",
    "x1=fsolve(f,-1,(a,b))"
   ]
  },
  {
   "cell_type": "markdown",
   "metadata": {},
   "source": [
    "### Oppgave x\n",
    "Ball kastes fra y > 0 => løs likning for  falltid"
   ]
  },
  {
   "cell_type": "markdown",
   "metadata": {},
   "source": [
    "### Oppgave x\n",
    "En kule skytes ut fra bakkenivå med fast startfart $v_0$ og en startvinkel $\\alpha$ som kan varieres. Vinkel justeres for å finne lengst horisontal rekkevidde "
   ]
  },
  {
   "cell_type": "markdown",
   "metadata": {},
   "source": [
    "### Oppgave 1\n",
    "En ball skytes uten luftmotstand mot en blink som ligger i en vertikal avstand $y_0$ og horisontal avstand $x_0$ fra utskytingspunktet. Ballen skytes ut med startfart $v_0$ og startvinkel $\\alpha$, som vist på figuren under.\n",
    "\n",
    "<center><img src=\"figurer/oppgave_skrått_kast_bestem_utskytingsvinkel.png\" alt=\"\" style=\"width: 250px;\"/></center>\n",
    "\n",
    "Bestem hva som må stå i linja indikert med ? i kodecellen under for at funksjonen $f(\\alpha)$ gjør at ```fsolve``` beregner verdier av startvinkelen $\\alpha$ som gjør at ballen treffer blinken, for gitte verdier av $x_0$, $y_0$ og $v_0$."
   ]
  },
  {
   "cell_type": "code",
   "execution_count": 24,
   "metadata": {},
   "outputs": [
    {
     "name": "stdout",
     "output_type": "stream",
     "text": [
      "[12.09521032]\n",
      "[12.09521032]\n",
      "[12.09521032]\n",
      "[12.09521032]\n",
      "[12.09521032]\n",
      "[12.09521032]\n",
      "[12.09521032]\n",
      "[12.09521032]\n",
      "[12.09521032]\n",
      "[12.09521032]\n",
      "[12.09521032]\n",
      "[12.09521032]\n",
      "[12.09521032]\n",
      "[12.09521032]\n",
      "[12.09521032]\n",
      "[12.09521032]\n",
      "[12.09521032]\n",
      "[12.09521032]\n",
      "[12.09521032]\n",
      "[12.09521032]\n",
      "[12.09521032]\n",
      "[12.09521032]\n",
      "[12.09521032]\n",
      "[12.09521032]\n",
      "[12.09521032]\n",
      "[12.09521032]\n",
      "[12.09521032]\n",
      "[12.09521032]\n",
      "[12.09521032]\n",
      "[12.09521032]\n",
      "[12.09521032]\n",
      "[12.09521032]\n",
      "[12.09521032]\n",
      "[12.09521032]\n",
      "[12.09521032]\n",
      "[12.09521032]\n",
      "[12.09521032]\n",
      "[12.09521032]\n",
      "[12.09521032]\n",
      "[12.09521032]\n",
      "[12.09521032]\n",
      "[12.09521032]\n",
      "[12.09521032]\n",
      "[12.09521032]\n",
      "[12.09521032]\n",
      "[12.09521032]\n",
      "[-167.90478968]\n",
      "[12.09521032]\n",
      "[62.9733725]\n",
      "[192.09521032]\n",
      "[62.9733725]\n",
      "[62.9733725]\n",
      "[62.9733725]\n",
      "[62.9733725]\n",
      "[62.9733725]\n",
      "[62.9733725]\n",
      "[62.9733725]\n",
      "[62.9733725]\n",
      "[62.9733725]\n",
      "[62.9733725]\n",
      "[62.9733725]\n",
      "[62.9733725]\n",
      "[62.9733725]\n",
      "[62.9733725]\n",
      "[62.9733725]\n",
      "[62.9733725]\n",
      "[62.9733725]\n",
      "[62.9733725]\n",
      "[62.9733725]\n",
      "[62.9733725]\n",
      "[62.9733725]\n",
      "[62.9733725]\n",
      "[62.9733725]\n",
      "[62.9733725]\n",
      "[62.9733725]\n",
      "[62.9733725]\n",
      "[62.9733725]\n",
      "[62.9733725]\n",
      "[62.9733725]\n",
      "[62.9733725]\n",
      "[62.9733725]\n",
      "[62.9733725]\n",
      "[62.9733725]\n",
      "[62.9733725]\n",
      "[62.9733725]\n",
      "[62.9733725]\n",
      "[62.9733725]\n",
      "[62.9733725]\n",
      "[62.9733725]\n",
      "[62.9733725]\n"
     ]
    }
   ],
   "source": [
    "from scipy.optimize import fsolve\n",
    "import numpy as np\n",
    "\n",
    "def f(alpha,x0,y0,v0):\n",
    "    #Input: Vinkel alpha i grader\n",
    "    \n",
    "    alpha=np.radians(alpha) #konverterer x til radianer\n",
    "    return y0+0.5*g*x0**2/(v0**2*(np.cos(alpha))**2) -x0*np.tan(alpha)\n",
    "\n",
    "#Definerer verdier for x0, y0, v0\n",
    "g=9.81\n",
    "x0=1.5\n",
    "y0=-0.4\n",
    "v0=4.0\n",
    "\n",
    "#Leter etter løsninger for alle startvinkler i intervallet [0 grader, 90 grader]\n",
    "for alpha in range(0,90):\n",
    "    vinkel=fsolve(f,alpha,(x0,y0,v0))"
   ]
  },
  {
   "cell_type": "markdown",
   "metadata": {},
   "source": [
    "A. \n",
    "\n",
    "B. \n",
    "\n",
    "C.\n",
    "\n",
    "D.\n",
    "\n",
    "E."
   ]
  },
  {
   "cell_type": "markdown",
   "metadata": {},
   "source": [
    "### Oppgave 2\n"
   ]
  },
  {
   "cell_type": "markdown",
   "metadata": {},
   "source": [
    "\n",
    "# Oppgaver med integrasjon\n",
    "## Oppgave 1\n",
    "En bil kjører rettlinjet på horisontalt underlag, og påvirkes av luftmotstand med absoluttverdi $F_D=kv^2$ som virker motsatt av fartsretningen. Bilen er utstyrt med en datalogger som gir bilens fart $v$ som funksjon av tiden $t$, dvs. $v(t)$.\n",
    "\n",
    "Vi skal skrive en funksjon som beregner arbeidet $W$ utført av luftmotstanden fra $t=t_0$ til $t=t_1$, ved å bruke definisjonen av effekt og arbeid: $P=\\frac{dW}{dt} \\Rightarrow W=\\int_{t_0}^{t_1} P(t) dt$."
   ]
  },
  {
   "cell_type": "code",
   "execution_count": 20,
   "metadata": {},
   "outputs": [
    {
     "name": "stdout",
     "output_type": "stream",
     "text": [
      "12142.857142857147\n"
     ]
    }
   ],
   "source": [
    "import numpy as np\n",
    "import scipy.integrate as integrate\n",
    "\n",
    "def v(t):\n",
    "    #Gir fart v(t) [m/s] fra datalogger\n",
    "    return 0.5*t**2-3.0*t\n",
    "\n",
    "def P(t):\n",
    "    k=2.0 #Verdi for k [Ns^2/m^2]\n",
    "    return k*v(t)**3\n",
    "\n",
    "def W(t0,t1):\n",
    "    W=integrate.quad(P,t0,t1)[0]\n",
    "    return W\n",
    "\n",
    "print(W(0,10))"
   ]
  },
  {
   "cell_type": "code",
   "execution_count": 9,
   "metadata": {},
   "outputs": [
    {
     "name": "stdout",
     "output_type": "stream",
     "text": [
      "15275.932727818745\n"
     ]
    }
   ],
   "source": [
    "import numpy as np\n",
    "import scipy.integrate as integrate\n",
    "t=np.arange(0,20,0.1)\n",
    "v=0.5*0.2*t**1.44\n",
    "I=np.trapz(v**3)\n",
    "print(I)"
   ]
  },
  {
   "cell_type": "markdown",
   "metadata": {},
   "source": [
    "## Oppgave 2\n"
   ]
  },
  {
   "cell_type": "code",
   "execution_count": 6,
   "metadata": {},
   "outputs": [
    {
     "name": "stdout",
     "output_type": "stream",
     "text": [
      "[0.00000000e+00 3.63078055e-03 9.85106521e-03 1.76625989e-02\n",
      " 2.67279954e-02 3.68567304e-02 4.79223162e-02 5.98330550e-02\n",
      " 7.25186284e-02 8.59229568e-02 1.00000000e-01 1.14711106e-01\n",
      " 1.30023243e-01 1.45907772e-01 1.62339563e-01 1.79296335e-01\n",
      " 1.96758170e-01 2.14707120e-01 2.33126910e-01 2.52002695e-01\n",
      " 2.71320865e-01 2.91068886e-01 3.11235165e-01 3.31808941e-01\n",
      " 3.52780189e-01 3.74139544e-01 3.95878231e-01 4.17988006e-01\n",
      " 4.40461106e-01 4.63290204e-01 4.86468369e-01 5.09989036e-01\n",
      " 5.33845970e-01 5.58033246e-01 5.82545217e-01 6.07376499e-01\n",
      " 6.32521950e-01 6.57976651e-01 6.83735893e-01 7.09795161e-01\n",
      " 7.36150120e-01 7.62796609e-01 7.89730622e-01 8.16948305e-01\n",
      " 8.44445944e-01 8.72219958e-01 9.00266889e-01 9.28583400e-01\n",
      " 9.57166261e-01 9.86012351e-01 1.01511865e+00 1.04448223e+00\n",
      " 1.07410024e+00 1.10396995e+00 1.13408868e+00 1.16445383e+00\n",
      " 1.19506289e+00 1.22591340e+00 1.25700299e+00 1.28832934e+00\n",
      " 1.31989019e+00 1.35168334e+00 1.38370667e+00 1.41595806e+00\n",
      " 1.44843551e+00 1.48113701e+00 1.51406063e+00 1.54720449e+00\n",
      " 1.58056672e+00 1.61414554e+00 1.64793917e+00 1.68194590e+00\n",
      " 1.71616403e+00 1.75059192e+00 1.78522794e+00 1.82007054e+00\n",
      " 1.85511814e+00 1.89036925e+00 1.92582237e+00 1.96147606e+00\n",
      " 1.99732888e+00 2.03337944e+00 2.06962636e+00 2.10606831e+00\n",
      " 2.14270396e+00 2.17953202e+00 2.21655121e+00 2.25376030e+00\n",
      " 2.29115804e+00 2.32874325e+00 2.36651474e+00 2.40447134e+00\n",
      " 2.44261192e+00 2.48093534e+00 2.51944052e+00 2.55812635e+00\n",
      " 2.59699178e+00 2.63603576e+00 2.67525725e+00 2.71465523e+00\n",
      " 2.75422870e+00 2.79397669e+00 2.83389821e+00 2.87399232e+00\n",
      " 2.91425808e+00 2.95469455e+00 2.99530082e+00 3.03607601e+00\n",
      " 3.07701921e+00 3.11812956e+00 3.15940620e+00 3.20084828e+00\n",
      " 3.24245496e+00 3.28422542e+00 3.32615885e+00 3.36825443e+00\n",
      " 3.41051139e+00 3.45292894e+00 3.49550631e+00 3.53824274e+00\n",
      " 3.58113748e+00 3.62418980e+00 3.66739895e+00 3.71076422e+00\n",
      " 3.75428490e+00 3.79796028e+00 3.84178967e+00 3.88577239e+00\n",
      " 3.92990775e+00 3.97419509e+00 4.01863375e+00 4.06322307e+00\n",
      " 4.10796241e+00 4.15285113e+00 4.19788860e+00 4.24307420e+00\n",
      " 4.28840731e+00 4.33388733e+00 4.37951365e+00 4.42528568e+00\n",
      " 4.47120283e+00 4.51726452e+00 4.56347017e+00 4.60981922e+00\n",
      " 4.65631110e+00 4.70294525e+00 4.74972114e+00 4.79663820e+00\n",
      " 4.84369591e+00 4.89089373e+00 4.93823113e+00 4.98570759e+00\n",
      " 5.03332260e+00 5.08107564e+00 5.12896621e+00 5.17699381e+00\n",
      " 5.22515793e+00 5.27345810e+00 5.32189382e+00 5.37046461e+00\n",
      " 5.41917000e+00 5.46800951e+00 5.51698269e+00 5.56608905e+00\n",
      " 5.61532816e+00 5.66469954e+00 5.71420276e+00 5.76383737e+00\n",
      " 5.81360292e+00 5.86349899e+00 5.91352513e+00 5.96368092e+00\n",
      " 6.01396593e+00 6.06437974e+00 6.11492194e+00 6.16559211e+00\n",
      " 6.21638984e+00 6.26731472e+00 6.31836635e+00 6.36954433e+00\n",
      " 6.42084827e+00 6.47227777e+00 6.52383245e+00 6.57551192e+00\n",
      " 6.62731579e+00 6.67924369e+00 6.73129524e+00 6.78347007e+00\n",
      " 6.83576781e+00 6.88818810e+00 6.94073056e+00 6.99339484e+00\n",
      " 7.04618058e+00 7.09908743e+00 7.15211504e+00 7.20526304e+00\n",
      " 7.25853111e+00 7.31191890e+00 7.36542606e+00 7.41905226e+00]\n"
     ]
    }
   ],
   "source": [
    "import numpy as np\n",
    "t=np.arange(0,20,0.1)\n",
    "v=0.5*0.2*t**1.44\n",
    "print(v)"
   ]
  },
  {
   "cell_type": "code",
   "execution_count": 3,
   "metadata": {},
   "outputs": [
    {
     "name": "stdout",
     "output_type": "stream",
     "text": [
      "[0.  0.2 0.6 1.1 2.4 3.8 4.9]\n"
     ]
    }
   ],
   "source": [
    "print(v_array)"
   ]
  },
  {
   "cell_type": "markdown",
   "metadata": {},
   "source": [
    "## Oppgave x\n",
    "Et legeme med masse $m$ som synker i vann, påvirkes av to krefter: tyngden $G=mg$ (antas konstant), samt en væskemotstand $F_D=kv$, der $k$ er en positiv konstant.\n",
    "\n",
    "Programmet under bruker Eulers metode til å bestemme legemets fart $v(t)$, fra $t=0$ til en sluttid $t=t_1$, for gitte verdier av $m$, $g$ og $k$.\n",
    "\n",
    "Hvilken Pyton-kode skal stå i linja markert med ? for at programmet skal generere to lister: én liste ```t_liste``` med t-verdier fra $t0$ til $t_1$, og én liste ```v_liste``` som inneholder fartsverdiene $v(t)$?"
   ]
  },
  {
   "cell_type": "code",
   "execution_count": 9,
   "metadata": {},
   "outputs": [],
   "source": [
    "import numpy as np\n",
    "\n",
    "def dvdt(v):\n",
    "    #Funksjonen beregner akselerasjonen a=dv/dt for legemet som funksjon av farten v\n",
    "    g=9.81 #Tyngdeakselerasjonen\n",
    "    m=1.0E-3 #Legemets masse\n",
    "    k=1.0E-3 #Verdien av konstanten k\n",
    "    return ? #Returnerer akselerasjonen a(v)\n",
    "\n",
    "#Tidssteg\n",
    "dt=0.1\n",
    "\n",
    "#Startverdier for t og v, legges i start på liste\n",
    "t0=0\n",
    "v0=0\n",
    "t_liste=[t0]\n",
    "v_liste=[v0]\n",
    "\n",
    "#Initaliserer t og v(t)\n",
    "t=t0\n",
    "v=v0\n",
    "\n",
    "while(t<t1):\n",
    "    v=v+dvdt(v)*dt\n",
    "    t=t+dt\n",
    "    v_liste.append(v)\n",
    "    t_liste.append(t)\n"
   ]
  },
  {
   "cell_type": "code",
   "execution_count": 10,
   "metadata": {},
   "outputs": [],
   "source": [
    "#Fasit \n",
    "\n",
    "import numpy as np\n",
    "\n",
    "def dvdt(v):\n",
    "    #Beregner akselerasjonen a=dv/dt for legemet som funksjon av farten v\n",
    "    g=9.81 #Tyngdeakselerasjonen\n",
    "    m=1.0E-3 #Legemets masse\n",
    "    k=1.0E-3 #Verdien av konstanten k\n",
    "    return g-(k/m)*v #Returnerer akselerasjonen a(v)\n",
    "\n",
    "#Tidssteg\n",
    "dt=0.1\n",
    "\n",
    "#Startverdier for t og v, legges i start på liste\n",
    "t0=0\n",
    "v0=0\n",
    "t_liste=[t0]\n",
    "v_liste=[v0]\n",
    "\n",
    "#Initaliserer t og v(t)\n",
    "t=t0\n",
    "v=v0\n",
    "\n",
    "while(t<t1):\n",
    "    v=v+dvdt(v)*dt\n",
    "    t=t+dt\n",
    "    v_liste.append(v)\n",
    "    t_liste.append(t)\n"
   ]
  },
  {
   "cell_type": "code",
   "execution_count": null,
   "metadata": {},
   "outputs": [],
   "source": []
  }
 ],
 "metadata": {
  "kernelspec": {
   "display_name": "Python 3",
   "language": "python",
   "name": "python3"
  },
  "language_info": {
   "codemirror_mode": {
    "name": "ipython",
    "version": 3
   },
   "file_extension": ".py",
   "mimetype": "text/x-python",
   "name": "python",
   "nbconvert_exporter": "python",
   "pygments_lexer": "ipython3",
   "version": "3.8.5"
  }
 },
 "nbformat": 4,
 "nbformat_minor": 2
}
