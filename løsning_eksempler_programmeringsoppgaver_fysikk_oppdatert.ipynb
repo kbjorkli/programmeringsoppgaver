{
 "cells": [
  {
   "cell_type": "markdown",
   "metadata": {},
   "source": [
    "\n",
    "# Løsningsforslag for eksempeloppgaver med programmering i Fysikk\n",
    "Dette er et sett oppgaver som er ment å antyde aktuelle problemstillinger for eksamensoppgaver med programmering i Fysikk. Alle oppgavene er i flervalgsformat, da dette er formatet som vil bli brukt for slike oppgaver på eksamen (dvs. man vil **ikke** bli bedt om å skrive egen kode)."
   ]
  },
  {
   "cell_type": "markdown",
   "metadata": {},
   "source": [
    "### Oppgave 1\n",
    "En ball skytes uten luftmotstand fra et utgangspunkt som ligger over den horisontale bakken. Ballen skytes ut med startfart $v_0$ og startvinkel $\\alpha$. Idet ballen treffer bakken, er posisjonon $y$, og $y<0$ hvis vi velger positiv retning nedover. Se figuren under.\n",
    "\n",
    "<center><img src=\"figurer/oppgave_skrått_kast_bestem_utskytingsvinkel.png\" alt=\"\" style=\"width: 250px;\"/></center>\n",
    "\n",
    "Vi skal lage et Python-skript som først finner falltiden $t$, og deretter beregner den horisontale rekkevidden $x=v_0 \\cos \\alpha t$.\n",
    "\n",
    "a) Bestem hva som må i kodecellen under, indikert med ?, for at funksjonen ```horisontal_rekkevidde(alfa,v0,y)``` skal returnere størrelsen $x$ på figuren over, for gitte verdier av $\\alpha$, $v_0$ og $y$."
   ]
  },
  {
   "cell_type": "code",
   "execution_count": 1,
   "metadata": {},
   "outputs": [
    {
     "name": "stdout",
     "output_type": "stream",
     "text": [
      "[4.32571303]\n"
     ]
    }
   ],
   "source": [
    "#Oppgave 1a)\n",
    "from scipy.optimize import fsolve\n",
    "import numpy as np\n",
    "\n",
    "#Definerer verdi for g som en global variabel\n",
    "g=9.81\n",
    "\n",
    "def f(t,alfa,v0,y):\n",
    "    \"\"\"Funksjonen definerer likningen f(t)=0 for å finne tiden før legemet treffer bakken.\n",
    "    Input:\n",
    "    t: Tid, avhengig variabel [s]\n",
    "    Parametre:\n",
    "    alfa: Utskytingsvinkel med horisontalen [radianer]\n",
    "    v0: Startfart [m/s]\n",
    "    y: Posisjon når legemet treffer bakken [m] (NB: y < 0 pga. positiv retning oppover)\n",
    "    \"\"\"\n",
    "    return -0.5*g*t**2+v0*np.sin(alfa)*t-y\n",
    "\n",
    "def horisontal_rekkevidde(alfa,v0,y):\n",
    "    \"\"\"Funksjonen beregner den horisontale rekkevidden [m], for et gitt sett av input.\n",
    "    Input: \n",
    "    alfa: Utskytingsvinkel med horisontalen [grader]\n",
    "    v0: Startfart [m/s]\n",
    "    y: Starthøyde over bakken [m] (NB: y <= 0 pga. positiv retning oppover)\n",
    "\n",
    "    Output:\n",
    "    Horisontal rekkevidde, dvs. horisontal avstand utgangspunkt-nedslagspunkt [m]\n",
    "    \"\"\"\n",
    "    alfa=np.radians(alfa) #Konverterer vinkel til radianer\n",
    "    t_start=1 #Startverdi/gjetning for t i fsolve\n",
    "    #Beregner falltiden t. Vi leter etter løsninger for t, slik at alfa,v0,y er\n",
    "    #parametre/gitte verdier til funksjonen f. Syntaksen (alfa,v0,y) angir at\n",
    "    #f skal betraktes som en funksjon av t; ikke av alfa,v0,y.\n",
    "    t=fsolve(f,t_start,(alfa,v0,y)) #Falltiden t\n",
    "    return v0*np.cos(alfa)*t  #Returnerer horisontal rekkevidde\n",
    "\n",
    "#Definerer verdier for kastet\n",
    "alfa=30 #Utgangsvinkel i grader\n",
    "v0=7 #Startfart i m/s\n",
    "y=0 #Starthøyde i m over bakkenivå. NB! y <= 0 pga. positiv retning oppover\n",
    "\n",
    "print(horisontal_rekkevidde(alfa,v0,y))"
   ]
  },
  {
   "cell_type": "markdown",
   "metadata": {},
   "source": [
    "A.  ```v0*np.cos(alfa)*t```<span>&#10003;</span>\n",
    "\n",
    "B. ```v0*np.sin(alfa)*t```\n",
    "\n",
    "C. ```v0*np.tan(alfa)*t```\n",
    "\n",
    "D. ```v0*np.cos(np.radians(alfa))*t```\n",
    "\n",
    "E. ```v0*np.sin(np.radians(alfa))*t```"
   ]
  },
  {
   "cell_type": "markdown",
   "metadata": {},
   "source": [
    "b) I kodecellen over gjør funksjonen ```horisontal_rekkevidde``` et kall til ```fsolve``` med en fast startverdi ```t_start```, som ```fsolve``` leter etter løsninger i nærheten av (i eksempelkoden er startverdien $t=1,0 \\textrm{ s}$). Vi skal etter hvert utvide koden til å beregne vinkelen som gir **maksimal** horisontal rekkevidde og da må vi bruke \"bedre\" startverdier/gjetninger for $t$, som også tar høyde for spesialtilfellene $\\alpha=0$ (\"horisontalt kast\") og/eller $y=0$ (skyter ut fra bakkenivå).\n",
    "\n",
    "Vi vil foreta følgende gjetninger:\n",
    "\n",
    "1. For $\\alpha>0$: Startverdi settes lik falltiden for tilfellet der $y=0$, som lett lar seg beregne.\n",
    "2. For $\\alpha=0$ og $y<0$ (horisontalt kast fra et nivå over bakkeplan): Startverdi settes lik falltiden for et vertikalt fall fra samme høyde, dvs. tilsvarende at legemet slippes med null vertikal startfart fra samme starthøyde.\n",
    "3. For alle andre tilfeller: Startverdi settes til ```t=1```.\n",
    "\n",
    "Kodecellen under viser den modifiserte koden i ```horisontal_rekkevidde``` som beregner ```t_start``` før funksjonskallet til ```fsolve```(resten av koden er uendret).\n",
    "\n",
    "Bestem hva som skal stå på linja i kodecellen under, indikert med ?."
   ]
  },
  {
   "cell_type": "code",
   "execution_count": 3,
   "metadata": {},
   "outputs": [
    {
     "name": "stdout",
     "output_type": "stream",
     "text": [
      "[4.32571303]\n"
     ]
    }
   ],
   "source": [
    "#Oppgave 1b)\n",
    "\n",
    "from scipy.optimize import fsolve\n",
    "import numpy as np\n",
    "\n",
    "#Definerer verdi for g som en global variabel\n",
    "g=9.81\n",
    "\n",
    "def f(t,alfa,v0,y):\n",
    "    \"\"\"Funksjonen definerer likningen f(t)=0 for å finne tiden før legemet treffer bakken.\n",
    "    Input:\n",
    "    t: Tid, avhengig variabel [s]\n",
    "    Parametre:\n",
    "    alfa: Utskytingsvinkel med horisontalen [radianer]\n",
    "    v0: Startfart [m/s]\n",
    "    y: Posisjon når legemet treffer bakken [m] (NB: y < 0 pga. positiv retning oppover)\n",
    "    \"\"\"\n",
    "    return -0.5*g*t**2+v0*np.sin(alfa)*t-y\n",
    "\n",
    "def horisontal_rekkevidde(alfa,v0,y):\n",
    "    \"\"\"Funksjonen beregner den horisontale rekkevidden [m], for et gitt sett av input.\n",
    "    Input: \n",
    "    alfa: Utskytingsvinkel med horisontalen [grader]\n",
    "    v0: Startfart [m/s]\n",
    "    y: Starthøyde over bakken [m] (NB: y <= 0 pga. positiv retning oppover)\n",
    "\n",
    "    Output:\n",
    "    Horisontal rekkevidde, dvs. horisontal avstand utgangspunkt-nedslagspunkt [m]\n",
    "    \"\"\"\n",
    "    alfa=np.radians(alfa) #Konverterer vinkel til radianer\n",
    "\n",
    "    #Beregner startverdi/gjetning for t avhengig av v0 og y\n",
    "    if (alfa>0):\n",
    "        t_start=2*v0*np.sin(alfa)/g #Startverdi for t lik falltid for y = 0\n",
    "    elif (alfa==0 and y<0):\n",
    "        t_start=(2*(-y)/g)**0.5 #Startverdi for t lik falltid for vertikalt fall fra samme starthøyde\n",
    "    else:\n",
    "        t_start=1\n",
    "    \n",
    "    #Beregner falltiden t. Vi leter etter løsninger for t, slik at alfa,v0,y er\n",
    "    #parametre/gitte verdier til funksjonen f. Syntaksen (alfa,v0,y) angir at\n",
    "    #f skal betraktes som en funksjon av t; ikke av alfa,v0,y.\n",
    "    t=fsolve(f,t_start,(alfa,v0,y)) #Falltiden t\n",
    "    return v0*np.cos(alfa)*t  #Returnerer horisontal rekkevidde\n",
    "\n",
    "#Definerer verdier for kastet\n",
    "alfa=30 #Utgangsvinkel i grader\n",
    "v0=7 #Startfart i m/s\n",
    "y=0 #Starthøyde i m over bakkenivå. NB! y <= 0 pga. positiv retning oppover\n",
    "\n",
    "print(horisontal_rekkevidde(alfa,v0,y))"
   ]
  },
  {
   "cell_type": "markdown",
   "metadata": {},
   "source": [
    "A. ```(2*(-y)/g)**0.5```<span>&#10003;</span>\n",
    "\n",
    "B. ```(2*y/g)**0.5```\n",
    "\n",
    "C. ```2*y/g```\n",
    "\n",
    "D. ```-2*y/g```\n",
    "\n",
    "E. ```-y/g```\n"
   ]
  },
  {
   "cell_type": "markdown",
   "metadata": {},
   "source": [
    "c) Vi skal nå modifisere koden for å bestemme den vinkelen $\\alpha_{\\text{max}}$ som gir den **maksimale** horisontale rekkevidden. Algoritmen:\n",
    "\n",
    "1. Definer et NumPy-array ```vinkler``` med alle vinkler i intervallet $[0,90^{\\circ}]$\n",
    "2. Definer en vektorisert utgave ```horisontal_rekkevidde_vektorisert``` av funksjonen ```horisontal_rekkevidde```, slik at funksjonen beregner rekkevidden for hver vinkel i arrayet ```vinkler``` (NB! Det er **ikke** essensielt for oppgaven at du forstår dette steget)\n",
    "3. Kall ```horisontal_rekkevidde_vektorisert``` for hver vinkel og lagre rekkeviddene i et NumPy-array ```rekkevidde``` \n",
    "4. Finn indeks for den maksimale verdien lagret i ```rekkevidde``` \n",
    "5. Hent ut vinkelen som gir maksimal rekkevidde fra ```vinkler```\n",
    "\n",
    "Bestem hva som skal stå på linja i kodecellen under, indikert med ?."
   ]
  },
  {
   "cell_type": "code",
   "execution_count": 4,
   "metadata": {},
   "outputs": [
    {
     "name": "stdout",
     "output_type": "stream",
     "text": [
      "24.954954954954953\n"
     ]
    }
   ],
   "source": [
    "#Oppgave 1c\n",
    "def alfa_maks(v0,y):\n",
    "    vinkler=np.linspace(0,90,1000) #array med vinkler\n",
    "    horisontal_rekkevidde_vektorisert=np.vectorize(horisontal_rekkevidde) #vektoriserer funksjonen\n",
    "    rekkevidde=horisontal_rekkevidde_vektorisert(vinkler,v0,y) #beregner rekkevidde for alle vinkler i array\n",
    "    indeks=np.argmax(rekkevidde) #henter ut indeks for maksimal verdi i array\n",
    "    alfa_maks=vinkler[indeks] #henter ut vinkel for maksimal rekkevidde\n",
    "    return alfa_maks\n",
    "\n",
    "#Beregner maksimal rekkevidde for gitte verdier av v0 og y\n",
    "v0=7\n",
    "y=-9\n",
    "print(alfa_maks(v0,y))"
   ]
  },
  {
   "cell_type": "markdown",
   "metadata": {},
   "source": [
    "A. ```rekkevidde[0]```\n",
    "\n",
    "B. ```np.argmax(vinkler)```\n",
    "\n",
    "C. ```np.argmax(rekkevidde)```<span>&#10003;</span>\n",
    "\n",
    "D. ```np.argmin(rekkevidde)```\n",
    "\n",
    "E. ```np.argmin(vinkler)```\n"
   ]
  },
  {
   "cell_type": "markdown",
   "metadata": {},
   "source": [
    "### Oppgave 2\n",
    "En ball skytes uten luftmotstand mot en blink som har posisjon $(x,y)$ i forhold til utskytingspunktet, med $y<0$ (positiv retning oppover). Ballen skytes ut med startfart $v_0$ og startvinkel $\\alpha$, som vist på figuren under.\n",
    "\n",
    "<center><img src=\"figurer/oppgave_skrått_kast_bestem_utskytingsvinkel.png\" alt=\"\" style=\"width: 250px;\"/></center>\n",
    "\n",
    "a) For å finne utskytingsvinkelen $\\alpha$ som gir treff i blinken for gitte verdier av $x$, $y$ og $v_0$, må vi løse en trigonomtrisk likning $f(\\alpha)=0$. Bestem hva som må stå i linja indikert med ? i kodecellen under for at funksjonen $f(\\alpha)$ definerer likninga $f(\\alpha)=0$."
   ]
  },
  {
   "cell_type": "code",
   "execution_count": 4,
   "metadata": {},
   "outputs": [],
   "source": [
    "#Oppgave 2a\n",
    "import numpy as np\n",
    "    \n",
    "def f(alfa,x,y,v0):\n",
    "    \"\"\"Funksjonen definerer likningen f(alfa)=0 som bestemmer vinkel alfa som gir treff i (x,y).\n",
    "    Input:\n",
    "    alfa: Startvinkel, avhengig variabel [grader]\n",
    "    Parametre:\n",
    "    x: x-koordinat til blinken\n",
    "    y: y-koordinat til blinken [m]. NB! y < 0 for valgt positiv retning\n",
    "    v0: Startfart [m/s]\n",
    "    \"\"\"\n",
    "    g=9.81\n",
    "    alfa=np.radians(alfa) #konverterer til radianer\n",
    "    return y+0.5*g*x**2/(v0**2*(np.cos(alfa))**2) -x*np.tan(alfa)"
   ]
  },
  {
   "cell_type": "markdown",
   "metadata": {},
   "source": [
    "A. ```-0.5*g*x**2/(v0**2*(np.cos(alfa))**2) -x*np.tan(alfa)```\n",
    "\n",
    "B. ```0.5*g*x**2/(v0**2*(np.cos(alfa))**2) -x*np.tan(alfa)```\n",
    "\n",
    "C. ```-y+0.5*g*x**2/(v0**2*(np.cos(alfa))**2) -x*np.tan(alfa)```\n",
    "\n",
    "D. ```y+0.5*g*x**2/(v0**2*(np.cos(alfa))**2) -x*np.tan(alfa)```<span>&#10003;</span>\n",
    "\n",
    "E. ```y+0.5*g*x**2/(v0**2*(np.cos(alfa))**2) -x*np.cos(alfa)```"
   ]
  },
  {
   "cell_type": "markdown",
   "metadata": {},
   "source": [
    "b) For å løse likninga $f(\\alpha)=0$ ved hjelp av ```fsolve```, må vi angi startverdier/gjetninger i nærheten av løsningen(e) vi skal finne. Det er derfor hensiktsmessig å bruke Matplotlib til å tegne grafen til $f(\\alpha)$ for gitte verdier av  $x$, $y$ og $v_0$.\n",
    "\n",
    "Bestem hva som må stå i linja indikert med ? i kodecellen under for at Matplotlib skal tegne grafen til $f(\\alpha)$ for vinkler i intervallet $[0,90^{\\circ}]$."
   ]
  },
  {
   "cell_type": "code",
   "execution_count": 5,
   "metadata": {},
   "outputs": [
    {
     "data": {
      "image/png": "[encoded data removed]",
      "text/plain": [
       "<Figure size 432x288 with 1 Axes>"
      ]
     },
     "metadata": {
      "needs_background": "light"
     },
     "output_type": "display_data"
    }
   ],
   "source": [
    "#Oppgave 2b\n",
    "import numpy as np\n",
    "import matplotlib.pyplot as plt\n",
    "\n",
    "#Definerer verdier for x, y og v0\n",
    "x=1.5\n",
    "y=-0.4\n",
    "v0=4.0\n",
    "\n",
    "#Definerer array med verdier for vinklene i intervallet [0,90]\n",
    "vinkler=np.linspace(0,90,1000)\n",
    "\n",
    "#Funksjonsverdiene som skal plottes er f(vinkler)\n",
    "verdier=f(vinkler,x,y,v0)\n",
    "\n",
    "#Definerer egenskapene til grafen som skal tegnes\n",
    "plt.ylim(-5,5) #Nedre og øvre y-verdi\n",
    "plt.xticks(np.arange(0,90,10)) #Definerer skala på x-aksen\n",
    "plt.grid('major') #Tegner inn rutenett\n",
    "plt.axhline(0, color='black', linewidth=.5) #Tegner inn horisontal x-akse\n",
    "plt.axvline(0, color='black', linewidth=.5) #Tegner inn vertikal y-akse\n",
    "plt.plot(vinkler,verdier) #Plotter f som funksjon av alfa\n",
    "plt.show() #Tegn plott\n"
   ]
  },
  {
   "cell_type": "markdown",
   "metadata": {},
   "source": [
    "A. ```f(vinkler,x,y,v0)```<span>&#10003;</span>\n",
    "\n",
    "B. ```f(vinkler,x,y,v/3.6)``` \n",
    "\n",
    "C. ```f(np.radians(alfa),x,y,v0)``` \n",
    "\n",
    "D. ```f(np.radians(vinkler),x,y,v0)``` \n",
    "\n",
    "E. ```f(alfa,x,y,v0)``` "
   ]
  },
  {
   "cell_type": "markdown",
   "metadata": {},
   "source": [
    "c) Bestem hva som må stå i linja indikert med ? i kodecellen under for at ```fsolve``` skal løse likningen $f(\\alpha)=0$, i nærheten av startverdien/gjetningen $\\alpha_0$, og lagre løsningen i variabelen ```losning```."
   ]
  },
  {
   "cell_type": "code",
   "execution_count": 7,
   "metadata": {},
   "outputs": [
    {
     "name": "stdout",
     "output_type": "stream",
     "text": [
      "[12.09521032]\n"
     ]
    }
   ],
   "source": [
    "#Oppgave 2c\n",
    "from scipy.optimize import fsolve\n",
    "import numpy as np\n",
    "\n",
    "#Definerer verdier for x, y og v0\n",
    "x=1.5\n",
    "y=-0.4\n",
    "v0=4.0\n",
    "alfa0=10\n",
    "\n",
    "losning=fsolve(f,alfa0,(x,y,v0))\n",
    "print(losning)"
   ]
  },
  {
   "cell_type": "markdown",
   "metadata": {},
   "source": [
    "A. ```fsolve(f,np.radians(alfa0),(x,y,v0))``` \n",
    "\n",
    "B. ```fsolve(f(alfa),np.radians(alfa0),(x,y,v0))``` \n",
    "\n",
    "C. ```fsolve(f(alfa),alfa0,(x,y,v0))``` \n",
    "\n",
    "D. ```fsolve(f,alfa0,(x,y,v0))```<span>&#10003;</span>\n",
    "\n",
    "E. ```fsolve(f,alfa0,x,y,v0)```"
   ]
  },
  {
   "cell_type": "markdown",
   "metadata": {},
   "source": [
    "\n",
    "# Oppgaver med integrasjon\n",
    "## Oppgave 3\n",
    "En bil kjører rettlinjet på horisontalt underlag, og påvirkes av luftmotstand med absoluttverdi $F_D=kv^2$ der $k$ er en positiv konstant, som virker motsatt av fartsretningen. \n",
    "\n",
    "a) Bestem effekten produsert av luftmotstanden på et tidspunkt der bilen har hastighet $v$.\n",
    "\n",
    "A. $kv^2$\n",
    "\n",
    "B. $kv^3$ <span>&#10003;</span>\n",
    "\n",
    "C. $\\frac{1}{2}kv^2$\n",
    "\n",
    "D. $\\frac{1}{2}kv^3$\n",
    "\n",
    "E. $\\frac{1}{3}kv^3$\n",
    "\n",
    "b) Bilens fart som funksjon av tiden, $v(t)$, beregnes av en datalogger i bilen. Vi skal lage en funksjon som beregner det totale arbeidet $W$ utført på bilen fra $t=t_0$ til $t=t_1$ for en gitt $v(t)$, ved å bruke arbeid-energi-teoremet sammen med definisjonen av effekt og arbeid: $P=\\frac{dW}{dt} \\Rightarrow W=\\int_{t_0}^{t_1} P(t) dt$.\n",
    "\n",
    "Bestem hva som må stå i linja indikert med ? i kodecellen under for at funksjonen ```W(t0,t1,m)``` returnerer det totale arbeidet i kJ (kilojoule) utført på en bil med masse $m$ i tidsrommet $t_0 \\leq t \\leq t_1$."
   ]
  },
  {
   "cell_type": "code",
   "execution_count": 8,
   "metadata": {},
   "outputs": [],
   "source": [
    "#Oppgave 3b\n",
    "import numpy as np\n",
    "import scipy.integrate as integrate\n",
    "\n",
    "def v(t):\n",
    "    \"\"\"Funksjonen beregner bilens fart v(t).\n",
    "    Input: \n",
    "    t: tid [s]\n",
    "    \n",
    "    Output:\n",
    "    bilens fart [m/s]\n",
    "    \"\"\"\n",
    "    return 20*np.arctan(0.85*t)\n",
    "\n",
    "\n",
    "def P(t):\n",
    "    \"\"\"Funksjonen beregner effekten produsert av luftmotstanden ved fart v(t).\n",
    "    Input: \n",
    "    t: tid [s]\n",
    "    \n",
    "    Output: \n",
    "    effekt [W]\n",
    "    \"\"\"\n",
    "    k=5.0 #Verdi for k [Ns^2/m^2]\n",
    "    return k*v(t)**3\n",
    "\n",
    "def W(t0,t1,m):\n",
    "    \"\"\"Funksjonen beregner det totale arbeidet utført på bilen fra t=t0 til t=t1.\n",
    "    Input:\n",
    "    t0: starttid [s]\n",
    "    t1: sluttid [s]\n",
    "    m: bilens masse [kg]\n",
    "\n",
    "    Output: Totalt arbeid utført på bilen i tidsrommet [kJ]\n",
    "    \"\"\"\n",
    "    W_f=integrate.quad(P,t0,t1)[0] #Arbeid utført av luftmotstanden\n",
    "    W_k=0.5*m*(v(t1)**2-v(t0)**2) #Arbeid for å endre kinetisk energi\n",
    "    return (W_f+W_k)/1000 #Totalt arbeid utført på bilen [kJ]"
   ]
  },
  {
   "cell_type": "markdown",
   "metadata": {},
   "source": [
    "A. ```W_f+W_k``` \n",
    "\n",
    "B. ```(W_f+W_k)/1000```<span>&#10003;</span>\n",
    "\n",
    "C. ```(W_f+W_k)*1000``` \n",
    "\n",
    "D. ```W_f/1000```\n",
    "\n",
    "E. ```W_f*1000```"
   ]
  },
  {
   "cell_type": "markdown",
   "metadata": {},
   "source": [
    "# Oppgaver med løsning av differensiallikninger\n",
    "## Oppgave 4\n",
    "Et legeme med masse $m$ som er helt nedsenket i vann, slippes fra ro i en viss dybde, og synker nedover. Legemet påvirkes av to krefter: tyngden $G=mg$ (antas konstant), og en væskemotstand proporsjonal med farten; $F_D=kv$, der $k$ er en positiv konstant.\n",
    "\n",
    "a) Hva blir legemets terminalfart (maksimale fart) $v_{\\text{max}}$?\n",
    "\n",
    "A. $v_{\\text{max}}=\\frac{mg}{k}$<span>&#10003;</span>\n",
    "\n",
    "B. $v_{\\text{max}}=\\frac{2mg}{k}$\n",
    "\n",
    "C. $v_{\\text{max}}=\\frac{mg}{2k}$\n",
    "\n",
    "D. $v_{\\text{max}}=\\sqrt{\\frac{mg}{k}}$\n",
    "\n",
    "E. $v_{\\text{max}}=\\sqrt{\\frac{mg}{2k}}$\n",
    "\n",
    "b) Vi skal laget et Python-program som bruker Eulers metode med tidssteg $dt$ til å løse den 1. ordens differensiallikningen for legemets fart $v(t)$. Programmet skal bestemme $v(t)$ fra $t=0$ til en sluttid $t=t_1$, for gitte verdier av $m$, $g$ og $k$. Programmet skal generere to lister: én liste ```t_liste``` med t-verdier fra $t_0$ til $t_1$, og én liste ```v_liste``` som inneholder fartsverdiene $v(t)$.\n",
    "\n",
    "Bestem hva som må stå i linja indikert med ? i kodecellen under for at funksjonen ```v(t0,t1,dt,v0)``` skal returnere  ```t_liste```, ```v_liste```. for gitte verdier av start-/sluttid $t_0$, $t_1$, tidssteget $dt$ og startfart $v_0$. "
   ]
  },
  {
   "cell_type": "code",
   "execution_count": 9,
   "metadata": {},
   "outputs": [],
   "source": [
    "#Oppgave 4b\n",
    "import numpy as np\n",
    "\n",
    "\n",
    "def dvdt(v):\n",
    "    \"\"\"Funksjonen beregner akselerasjonen a=dv/dt for legemet som funksjon av farten v.\n",
    "    Input:\n",
    "    v: fart [m/s]\n",
    "\n",
    "    Output: Legemets akselerasjon [m/s^2]\n",
    "    \"\"\"\n",
    "    #Angir parametre\n",
    "    g=9.81 #Tyngdeakselerasjonen\n",
    "    m=1.0E-3 #Legemets masse\n",
    "    k=3.0E-3 #Verdien av konstanten k\n",
    "    return g-(k/m)*v #Returnerer akselerasjonen a(v)\n",
    "\n",
    "def v(t0,t1,dt=0.1,v0=0):\n",
    "    \"\"\"Funksjonen beregner v(t) via Eulers metode fra t=t0 til t=t1 med tidssteg dt.\n",
    "    Input:\n",
    "    t0: starttid [s]\n",
    "    t1: sluttid [s]\n",
    "    dt (0.1 s med mindre annet er spesifisert): tidssteg [s]\n",
    "    v0 (0 med mindre annet er spesifisert): startfart [m/s]\n",
    "\n",
    "    Output:\n",
    "    (t_liste, v_liste): tuppel med liste over hhv. t- og v-verdier\n",
    "    \"\"\"\n",
    "    \n",
    "    #Initialiserer t og v\n",
    "    t=t0\n",
    "    v=v0\n",
    "\n",
    "    #Initialiserer lister\n",
    "    t_liste=[t0]\n",
    "    v_liste=[v0]\n",
    "    \n",
    "    #Løkke for Eulers metdoe\n",
    "    while(t<t1):\n",
    "        v=v+dvdt(v)*dt\n",
    "        t=t+dt\n",
    "        v_liste.append(v)\n",
    "        t_liste.append(t)\n",
    "    return t_liste,v_liste\n"
   ]
  },
  {
   "cell_type": "markdown",
   "metadata": {},
   "source": [
    "A. ```v=v+dvdt(v/3.6)*dt``` \n",
    "\n",
    "B. ```v=dvdt(v)*dt``` \n",
    "\n",
    "C. ```v=v+dvdt(v)*dt```<span>&#10003;</span>\n",
    "\n",
    "D. ```v=dvdt(v/3.6)*dt``` \n",
    "\n",
    "E. ```v=dvdt*dt```"
   ]
  },
  {
   "cell_type": "markdown",
   "metadata": {},
   "source": [
    "c) Kodecellen under viser resultatet når Matplotlib genererer et plott for $v(t)$ basert på dataene i den forrige kodecellen."
   ]
  },
  {
   "cell_type": "code",
   "execution_count": 10,
   "metadata": {},
   "outputs": [
    {
     "data": {
      "image/png": "[encoded data removed]",
      "text/plain": [
       "<Figure size 432x288 with 1 Axes>"
      ]
     },
     "metadata": {
      "needs_background": "light"
     },
     "output_type": "display_data"
    }
   ],
   "source": [
    "import matplotlib.pyplot as plt\n",
    "\n",
    "#Genererer lister for t og v mellom t=t0 og t=t1\n",
    "t0=0\n",
    "t1=10\n",
    "t_liste,v_liste=v(t0,t1)\n",
    "\n",
    "#Plotter v(t)\n",
    "plt.ylim(0,4) #Nedre og øvre y-verdi\n",
    "plt.xticks(np.arange(t0,t1,1)) #Definerer skala på tidsaksen\n",
    "plt.grid('major') #Tegner inn rutenett\n",
    "plt.plot(t_liste,v_liste) #Plotter v(t)\n",
    "plt.show() #Tegner graf"
   ]
  },
  {
   "cell_type": "markdown",
   "metadata": {},
   "source": [
    "Basert på grafen over, hvilken påstand om bevegelsen til legemet for $t_0 \\leq t \\leq t_1$ er riktig?\n",
    "\n",
    "A. Legemets akselerasjon er økende\n",
    "\n",
    "B. Legemets akselerasjon er avtakende<span>&#10003;</span>\n",
    "\n",
    "C. Legemets akselerasjon er tilnærmet konstant\n",
    "\n",
    "D. Legemets fart er tilnærmet konstant\n",
    "\n",
    "E. Legemet blir etterhvert liggende i ro\n",
    "\n"
   ]
  }
 ],
 "metadata": {
  "kernelspec": {
   "display_name": "Python 3",
   "language": "python",
   "name": "python3"
  },
  "language_info": {
   "codemirror_mode": {
    "name": "ipython",
    "version": 3
   },
   "file_extension": ".py",
   "mimetype": "text/x-python",
   "name": "python",
   "nbconvert_exporter": "python",
   "pygments_lexer": "ipython3",
   "version": "3.8.5"
  }
 },
 "nbformat": 4,
 "nbformat_minor": 2
}
