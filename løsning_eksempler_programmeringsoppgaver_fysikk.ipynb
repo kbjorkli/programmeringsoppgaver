{
 "cells": [
  {
   "cell_type": "code",
   "execution_count": 47,
   "metadata": {},
   "outputs": [
    {
     "name": "stdout",
     "output_type": "stream",
     "text": [
      "[41.73731072]\n"
     ]
    }
   ],
   "source": [
    "#Oppgave 1\n",
    "from scipy.optimize import fsolve\n",
    "import numpy as np\n",
    "\n",
    "#Definerer verdi for g som en global variabel\n",
    "g=9.81\n",
    "\n",
    "def f(t,alfa,v0,y):\n",
    "    \"\"\"Funksjonen definerer likningen f(t)=0 for å finne tiden før legemet treffer bakken.\n",
    "    Input:\n",
    "    t: Tid, avhengig variabel [s]\n",
    "    Parametre:\n",
    "    alfa: Utskytingsvinkel med horisontalen [radianer]\n",
    "    v0: Startfart [m/s]\n",
    "    y: Posisjon når legemet treffer bakken [m] (NB: y < 0 pga. positiv retning oppover)\n",
    "    \"\"\"\n",
    "    return -0.5*g*t**2+v0*np.sin(alfa)*t-y\n",
    "\n",
    "def horisontal_rekkevidde(alfa,v0,y):\n",
    "    \"\"\"Funksjonen beregner den horisontale rekkevidden [m], for et gitt sett av input.\n",
    "    Input: \n",
    "    alfa: Utskytingsvinkel med horisontalen [grader]\n",
    "    v0: Startfart [m/s]\n",
    "    y: Starthøyde over bakken [m] (NB: y <= 0 pga. positiv retning oppover)\n",
    "\n",
    "    Output:\n",
    "    Horisontal rekkevidde, dvs. horisontal avstand utgangspunkt-nedslagspunkt [m]\n",
    "    \"\"\"\n",
    "    alfa=np.radians(alfa) #Konverterer vinkel til radianer\n",
    "    #print(alfa,y)\n",
    "    if (alfa>0):\n",
    "        #print(\"l1\")\n",
    "        t_start=2*v0*np.sin(alfa)/g #Startverdi for t tilsvarer at y = 0 (skytes fra bakkenivå)\n",
    "    elif (alfa==0 and y<0):\n",
    "        #print(\"l2\")\n",
    "        t_start=(2*(-y)/g)**0.5\n",
    "    else:\n",
    "        #print(\"l3\")\n",
    "        t_start=1\n",
    "    \n",
    "    #t_start=2  \n",
    "    t=fsolve(f,t_start,(alfa,v0,y)) #Angir (alfa,v0,y) som parametre til funksjonen f\n",
    "    return v0*np.cos(alfa)*t  #Returnerer horisontal rekkevidde\n",
    "    \n",
    "\n",
    "#Definerer verdier for kastet\n",
    "alfa=20 #Utgangsvinkel\n",
    "v0=20 #Startfart\n",
    "y=-9 #Starthøyde over bakkenivå. NB! y < 0 pga. positiv retning oppover\n",
    "\n",
    "print(horisontal_rekkevidde(alfa,v0,y))"
   ]
  },
  {
   "cell_type": "code",
   "execution_count": 50,
   "metadata": {},
   "outputs": [
    {
     "name": "stdout",
     "output_type": "stream",
     "text": [
      "44.95495495495495\n"
     ]
    }
   ],
   "source": [
    "#Oppgave 2\n",
    "def alfa_maks(v0,y):\n",
    "    vinkler=np.linspace(0,90,1000)\n",
    "    #print(vinkler)\n",
    "    horisontal_rekkevidde_vektorisert=np.vectorize(horisontal_rekkevidde)\n",
    "    rekkevidde=horisontal_rekkevidde_vektorisert(vinkler,v0,y)\n",
    "    #print(rekkevidde)\n",
    "    indeks=np.argmax(rekkevidde)\n",
    "    #print(indeks)\n",
    "    alfa_maks=vinkler[indeks]\n",
    "    return alfa_maks\n",
    "v0=7\n",
    "y=0\n",
    "print(alfa_maks(v0,y))"
   ]
  },
  {
   "cell_type": "markdown",
   "metadata": {},
   "source": []
  },
  {
   "cell_type": "markdown",
   "metadata": {},
   "source": []
  }
 ],
 "metadata": {
  "kernelspec": {
   "display_name": "Python 3",
   "language": "python",
   "name": "python3"
  },
  "language_info": {
   "codemirror_mode": {
    "name": "ipython",
    "version": 3
   },
   "file_extension": ".py",
   "mimetype": "text/x-python",
   "name": "python",
   "nbconvert_exporter": "python",
   "pygments_lexer": "ipython3",
   "version": "3.8.5"
  }
 },
 "nbformat": 4,
 "nbformat_minor": 2
}
