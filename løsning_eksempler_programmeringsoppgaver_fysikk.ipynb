{
 "cells": [
  {
   "cell_type": "code",
   "execution_count": 47,
   "metadata": {},
   "outputs": [
    {
     "name": "stdout",
     "output_type": "stream",
     "text": [
      "[41.73731072]\n"
     ]
    }
   ],
   "source": [
    "#Oppgave 1\n",
    "from scipy.optimize import fsolve\n",
    "import numpy as np\n",
    "\n",
    "#Definerer verdi for g som en global variabel\n",
    "g=9.81\n",
    "\n",
    "def f(t,alfa,v0,y):\n",
    "    \"\"\"Funksjonen definerer likningen f(t)=0 for å finne tiden før legemet treffer bakken.\n",
    "    Input:\n",
    "    t: Tid, avhengig variabel [s]\n",
    "    Parametre:\n",
    "    alfa: Utskytingsvinkel med horisontalen [radianer]\n",
    "    v0: Startfart [m/s]\n",
    "    y: Posisjon når legemet treffer bakken [m] (NB: y < 0 pga. positiv retning oppover)\n",
    "    \"\"\"\n",
    "    return -0.5*g*t**2+v0*np.sin(alfa)*t-y\n",
    "\n",
    "def horisontal_rekkevidde(alfa,v0,y):\n",
    "    \"\"\"Funksjonen beregner den horisontale rekkevidden [m], for et gitt sett av input.\n",
    "    Input: \n",
    "    alfa: Utskytingsvinkel med horisontalen [grader]\n",
    "    v0: Startfart [m/s]\n",
    "    y: Starthøyde over bakken [m] (NB: y <= 0 pga. positiv retning oppover)\n",
    "\n",
    "    Output:\n",
    "    Horisontal rekkevidde, dvs. horisontal avstand utgangspunkt-nedslagspunkt [m]\n",
    "    \"\"\"\n",
    "    alfa=np.radians(alfa) #Konverterer vinkel til radianer\n",
    "    #print(alfa,y)\n",
    "    if (alfa>0):\n",
    "        #print(\"l1\")\n",
    "        t_start=2*v0*np.sin(alfa)/g #Startverdi for t tilsvarer at y = 0 (skytes fra bakkenivå)\n",
    "    elif (alfa==0 and y<0):\n",
    "        #print(\"l2\")\n",
    "        t_start=(2*(-y)/g)**0.5\n",
    "    else:\n",
    "        #print(\"l3\")\n",
    "        t_start=1\n",
    "    \n",
    "    #t_start=2  \n",
    "    t=fsolve(f,t_start,(alfa,v0,y)) #Angir (alfa,v0,y) som parametre til funksjonen f\n",
    "    return v0*np.cos(alfa)*t  #Returnerer horisontal rekkevidde\n",
    "    \n",
    "\n",
    "#Definerer verdier for kastet\n",
    "alfa=20 #Utgangsvinkel\n",
    "v0=20 #Startfart\n",
    "y=-9 #Starthøyde over bakkenivå. NB! y < 0 pga. positiv retning oppover\n",
    "\n",
    "print(horisontal_rekkevidde(alfa,v0,y))"
   ]
  },
  {
   "cell_type": "code",
   "execution_count": null,
   "metadata": {},
   "outputs": [],
   "source": [
    "#Oppgave 1a)\n",
    "from scipy.optimize import fsolve\n",
    "import numpy as np\n",
    "\n",
    "#Definerer verdi for g som en global variabel\n",
    "g=9.81\n",
    "\n",
    "def f(t,alfa,v0,y):\n",
    "    \"\"\"Funksjonen definerer likningen f(t)=0 for å finne tiden før legemet treffer bakken.\n",
    "    Input:\n",
    "    t: Tid, avhengig variabel [s]\n",
    "    Parametre:\n",
    "    alfa: Utskytingsvinkel med horisontalen [radianer]\n",
    "    v0: Startfart [m/s]\n",
    "    y: Posisjon når legemet treffer bakken [m] (NB: y < 0 pga. positiv retning oppover)\n",
    "    \"\"\"\n",
    "    return -0.5*g*t**2+v0*np.sin(alfa)*t-y\n",
    "\n",
    "def horisontal_rekkevidde(alfa,v0,y):\n",
    "    \"\"\"Funksjonen beregner den horisontale rekkevidden [m], for et gitt sett av input.\n",
    "    Input: \n",
    "    alfa: Utskytingsvinkel med horisontalen [grader]\n",
    "    v0: Startfart [m/s]\n",
    "    y: Starthøyde over bakken [m] (NB: y <= 0 pga. positiv retning oppover)\n",
    "\n",
    "    Output:\n",
    "    Horisontal rekkevidde, dvs. horisontal avstand utgangspunkt-nedslagspunkt [m]\n",
    "    \"\"\"\n",
    "    alfa=np.radians(alfa) #Konverterer vinkel til radianer\n",
    "    t_start=1 #Startverdi/gjetning for t i fsolve\n",
    "    #Beregner falltiden t. Vi leter etter løsninger for t, slik at alfa,v0,y er\n",
    "    #parametre/gitte verdier til funksjonen f. Syntaksen (alfa,v0,y) angir at\n",
    "    #f skal betraktes som en funksjon av t; ikke av alfa,v0,y.\n",
    "    t=fsolve(f,t_start,(alfa,v0,y)) #Falltiden t\n",
    "    return ?  #Returnerer horisontal rekkevidde\n",
    "\n",
    "#Definerer verdier for kastet\n",
    "alfa=30 #Utgangsvinkel i grader\n",
    "v0=7 #Startfart i m/s\n",
    "y=0 #Starthøyde i m over bakkenivå. NB! y <= 0 pga. positiv retning oppover\n",
    "\n",
    "print(horisontal_rekkevidde(alfa,v0,y))"
   ]
  },
  {
   "cell_type": "code",
   "execution_count": null,
   "metadata": {},
   "outputs": [],
   "source": [
    "#Oppgave 1b)\n",
    "#Beregner startverdi/gjetning for t avhengig av v0 og y\n",
    "if (alfa>0):\n",
    "    t_start=2*v0*np.sin(alfa)/g #Startverdi for t lik falltid for y = 0\n",
    "elif (alfa==0 and y<0):\n",
    "    t_start=? #Startverdi for t lik falltid for vertikalt fall fra samme starthøyde\n",
    "else:\n",
    "    t_start=1"
   ]
  },
  {
   "cell_type": "code",
   "execution_count": null,
   "metadata": {},
   "outputs": [],
   "source": [
    "#Oppgave 1c\n",
    "def alfa_maks(v0,y):\n",
    "    vinkler=np.linspace(0,90,1000) #array med vinkler\n",
    "    horisontal_rekkevidde_vektorisert=np.vectorize(horisontal_rekkevidde) #vektoriserer funksjonen\n",
    "    rekkevidde=horisontal_rekkevidde_vektorisert(vinkler,v0,y) #beregner rekkevidde for alle vinkler i array\n",
    "    indeks=? #henter ut indeks for maksimal verdi i array\n",
    "    alfa_maks=vinkler[indeks] #henter ut vinkel for maksimal rekkevidde\n",
    "    return alfa_maks\n",
    "\n",
    "#Beregner maksimal rekkevidde for gitte verdier av v0 og y\n",
    "v0=7\n",
    "y=-9\n",
    "print(alfa_maks(v0,y))"
   ]
  },
  {
   "cell_type": "code",
   "execution_count": 1,
   "metadata": {},
   "outputs": [],
   "source": [
    "#Oppgave 2a\n",
    "def f(alfa,x,y,v0):\n",
    "    \"\"\"Funksjonen definerer likningen f(alfa)=0 som bestemmer vinkel alfa som gir treff i (x,y).\n",
    "    Input:\n",
    "    alfa: Startvinkel, avhengig variabel [grader]\n",
    "    Parametre:\n",
    "    x: x-koordinat til blinken\n",
    "    y: y-koordinat til blinken [m]. NB! y < 0 for valgt positiv retning\n",
    "    v0: Startfart [m/s]\n",
    "    \"\"\"\n",
    "    g=9.81\n",
    "    alfa=np.radians(alfa) #konverterer x til radianer\n",
    "    return y+0.5*g*x**2/(v0**2*(np.cos(alfa))**2) -x*np.tan(alfa)"
   ]
  },
  {
   "cell_type": "code",
   "execution_count": 2,
   "metadata": {},
   "outputs": [
    {
     "data": {
      "image/png": "[encoded data removed]",
      "text/plain": [
       "<Figure size 432x288 with 1 Axes>"
      ]
     },
     "metadata": {
      "needs_background": "light"
     },
     "output_type": "display_data"
    }
   ],
   "source": [
    "#Oppgave 2b\n",
    "from scipy.optimize import fsolve\n",
    "import numpy as np\n",
    "import matplotlib.pyplot as plt\n",
    "\n",
    "#Definerer verdier for x, y og v0\n",
    "x=1.5\n",
    "y=-0.4\n",
    "v0=4.0\n",
    "\n",
    "#Definerer array med verdier for vinklene i intervallet [0,90]\n",
    "vinkler=np.linspace(0,90,1000)\n",
    "\n",
    "#Funksjonsverdiene som skal plottes er f(vinkler)\n",
    "verdier=f(vinkler,x,y,v0)\n",
    "\n",
    "#Definerer egenskapene til grafen som skal tegnes\n",
    "plt.ylim(-5,5) #Nedre og øvre y-verdi\n",
    "plt.xticks(np.arange(0,90,10)) #Definerer skala på x-aksen\n",
    "plt.grid('major') #Tegner inn rutenett\n",
    "plt.axhline(0, color='black', linewidth=.5) #Tegner inn horisontal x-akse\n",
    "plt.axvline(0, color='black', linewidth=.5) #Tegner inn vertikal y-akse\n",
    "plt.plot(vinkler,verdier) #Plotter f som funksjon av alfa\n",
    "plt.show() #Tegn plott\n"
   ]
  },
  {
   "cell_type": "code",
   "execution_count": 5,
   "metadata": {},
   "outputs": [
    {
     "name": "stdout",
     "output_type": "stream",
     "text": [
      "[12.09521032]\n"
     ]
    }
   ],
   "source": [
    "#Oppgave 2c\n",
    "from scipy.optimize import fsolve\n",
    "import numpy as np\n",
    "\n",
    "#Definerer verdier for x, y og v0\n",
    "x=1.5\n",
    "y=-0.4\n",
    "v0=4.0\n",
    "alfa0=10\n",
    "\n",
    "losning=fsolve(f,alfa0,(x,y,v0))\n",
    "print(losning)"
   ]
  },
  {
   "cell_type": "code",
   "execution_count": 2,
   "metadata": {},
   "outputs": [
    {
     "name": "stdout",
     "output_type": "stream",
     "text": [
      "1665.2425741749796\n"
     ]
    }
   ],
   "source": [
    "#Oppgave 3b\n",
    "import numpy as np\n",
    "import scipy.integrate as integrate\n",
    "\n",
    "def v(t):\n",
    "    \"\"\"Funksjonen beregner bilens fart v(t).\n",
    "    Input: \n",
    "    t: tid [s]\n",
    "    \n",
    "    Output:\n",
    "    bilens fart [m/s]\n",
    "    \"\"\"\n",
    "    return 20*np.arctan(0.85*t)\n",
    "\n",
    "\n",
    "def P(t):\n",
    "    \"\"\"Funksjonen beregner effekten produsert av luftmotstanden ved fart v(t).\n",
    "    Input: \n",
    "    t: tid [s]\n",
    "    \n",
    "    Output: \n",
    "    effekt [W]\n",
    "    \"\"\"\n",
    "    k=5.0 #Verdi for k [Ns^2/m^2]\n",
    "    return k*v(t)**3\n",
    "\n",
    "def W(t0,t1,m):\n",
    "    \"\"\"Funksjonen beregner det totale arbeidet utført på bilen fra t=t0 til t=t1.\n",
    "    Input:\n",
    "    t0: starttid [s]\n",
    "    t1: sluttid [s]\n",
    "    m: bilens masse [kg]\n",
    "\n",
    "    Output: Totalt arbeid utført på bilen i tidsrommet [kJ]\n",
    "    \"\"\"\n",
    "    W_f=integrate.quad(P,t0,t1)[0] #Arbeid utført av luftmotstanden\n",
    "    W_k=0.5*m*(v(t1)**2-v(t0)**2) #Arbeid for å endre kinetisk energi\n",
    "    return (W_f+W_k)/1000\n",
    "\n",
    "print(W(0,10,2000))"
   ]
  },
  {
   "cell_type": "markdown",
   "metadata": {},
   "source": []
  },
  {
   "cell_type": "code",
   "execution_count": 1,
   "metadata": {},
   "outputs": [
    {
     "data": {
      "image/png": "[encoded data removed]",
      "text/plain": [
       "<Figure size 432x288 with 1 Axes>"
      ]
     },
     "metadata": {
      "needs_background": "light"
     },
     "output_type": "display_data"
    }
   ],
   "source": [
    "#Oppgave 4b\n",
    "import numpy as np\n",
    "import matplotlib.pyplot as plt\n",
    "\n",
    "def dvdt(v):\n",
    "    #Beregner akselerasjonen a=dv/dt for legemet som funksjon av farten v\n",
    "    g=9.81 #Tyngdeakselerasjonen\n",
    "    m=1.0E-3 #Legemets masse\n",
    "    k=3.0E-3 #Verdien av konstanten k\n",
    "    return g-(k/m)*v #Returnerer akselerasjonen a(v)\n",
    "\n",
    "def v(t0,t1,dt,v0=0):\n",
    "    \n",
    "    #Initialiserer t og v\n",
    "    t=t0\n",
    "    v=v0\n",
    "\n",
    "    #Initialiserer lister\n",
    "    t_liste=[t0]\n",
    "    v_liste=[v0]\n",
    "    \n",
    "    while(t<t1):\n",
    "        v=v+dvdt(v)*dt\n",
    "        t=t+dt\n",
    "        v_liste.append(v)\n",
    "        t_liste.append(t)\n",
    "    return t_liste,v_liste\n",
    "\n",
    "t_liste,v_liste=v(0,10,0.1)\n",
    "\n",
    "#print(t_liste)\n",
    "#print(v_liste)\n",
    "#plt.plot(t,v)\n",
    "plt.ylim(0,4) #Nedre og øvre y-verdi\n",
    "plt.xticks(np.arange(0,10,1)) #Definerer skala på x-aksen\n",
    "plt.grid('major') #Tegner inn rutenett\n",
    "plt.axhline(0, color='black', linewidth=.5) #Tegner inn horisontal x-akse\n",
    "plt.axvline(0, color='black', linewidth=.5) #Tegner inn vertikal y-akse\n",
    "plt.plot(t_liste,v_liste) #Plotter f som funksjon av alfa\n",
    "plt.show() #Tegn plott"
   ]
  },
  {
   "cell_type": "markdown",
   "metadata": {},
   "source": []
  }
 ],
 "metadata": {
  "kernelspec": {
   "display_name": "Python 3",
   "language": "python",
   "name": "python3"
  },
  "language_info": {
   "codemirror_mode": {
    "name": "ipython",
    "version": 3
   },
   "file_extension": ".py",
   "mimetype": "text/x-python",
   "name": "python",
   "nbconvert_exporter": "python",
   "pygments_lexer": "ipython3",
   "version": "3.8.5"
  }
 },
 "nbformat": 4,
 "nbformat_minor": 2
}
