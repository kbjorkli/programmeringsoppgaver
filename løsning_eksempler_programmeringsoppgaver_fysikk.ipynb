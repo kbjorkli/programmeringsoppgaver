{
 "cells": [
  {
   "cell_type": "code",
   "execution_count": null,
   "metadata": {},
   "outputs": [],
   "source": [
    "from scipy.optimize import fsolve\n",
    "import numpy as np\n",
    "\n",
    "def f(alpha,x0,y0,v0):\n",
    "    #Input: Vinkel alpha i grader\n",
    "    \n",
    "    alpha=np.radians(alpha) #konverterer x til radianer\n",
    "    return y0+0.5*g*x0**2/(v0**2*(np.cos(alpha))**2) -x0*np.tan(alpha)\n",
    "\n",
    "#Definerer verdier for x0, y0, v0\n",
    "g=9.81\n",
    "x0=1.5\n",
    "y0=-0.4\n",
    "v0=4.0\n",
    "\n",
    "#Leter etter løsninger for alle startvinkler i intervallet [0 grader, 90 grader]\n",
    "for alpha in range(0,90):\n",
    "    vinkel=fsolve(f,alpha,(x0,y0,v0))"
   ]
  }
 ],
 "metadata": {
  "language_info": {
   "name": "python"
  }
 },
 "nbformat": 4,
 "nbformat_minor": 2
}
